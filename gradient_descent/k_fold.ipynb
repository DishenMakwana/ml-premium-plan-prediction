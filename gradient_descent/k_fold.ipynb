{
 "cells": [
  {
   "metadata": {
    "ExecuteTime": {
     "end_time": "2025-01-07T12:06:37.983289Z",
     "start_time": "2025-01-07T12:06:37.977461Z"
    }
   },
   "cell_type": "code",
   "source": [
    "import numpy as np\n",
    "import pandas as pd\n",
    "import matplotlib.pyplot as plt\n",
    "from sklearn.datasets import make_classification\n",
    "from sklearn.linear_model import LogisticRegression\n",
    "from sklearn.model_selection import train_test_split\n",
    "from sklearn.metrics import classification_report\n",
    "from collections import Counter"
   ],
   "id": "dd9ec83c0cc19013",
   "outputs": [],
   "execution_count": 42
  },
  {
   "metadata": {
    "ExecuteTime": {
     "end_time": "2025-01-07T12:06:39.132709Z",
     "start_time": "2025-01-07T12:06:39.126560Z"
    }
   },
   "cell_type": "code",
   "source": [
    "X, y = make_classification(\n",
    "    n_features=10,\n",
    "    n_samples=1000,\n",
    "    n_informative=4,\n",
    "    n_redundant=6,\n",
    "    n_repeated=0,\n",
    "    n_classes=2,\n",
    "    weights=[0.9, 0.1],\n",
    "    random_state=42\n",
    ")\n",
    "\n",
    "X_train, X_test, y_train, y_test = train_test_split(X, y, test_size=0.25, random_state=42)"
   ],
   "id": "83ed1a50866de76f",
   "outputs": [],
   "execution_count": 43
  },
  {
   "metadata": {
    "ExecuteTime": {
     "end_time": "2025-01-07T12:06:40.581101Z",
     "start_time": "2025-01-07T12:06:40.570991Z"
    }
   },
   "cell_type": "code",
   "source": [
    "model = LogisticRegression()\n",
    "model.fit(X_train, y_train)\n",
    "\n",
    "y_pred = model.predict(X_test)\n",
    "\n",
    "print(classification_report(y_test, y_pred))\n"
   ],
   "id": "811e0de5c7d8483c",
   "outputs": [
    {
     "name": "stdout",
     "output_type": "stream",
     "text": [
      "              precision    recall  f1-score   support\n",
      "\n",
      "           0       0.89      1.00      0.94       221\n",
      "           1       0.67      0.07      0.12        29\n",
      "\n",
      "    accuracy                           0.89       250\n",
      "   macro avg       0.78      0.53      0.53       250\n",
      "weighted avg       0.86      0.89      0.85       250\n",
      "\n"
     ]
    }
   ],
   "execution_count": 44
  },
  {
   "metadata": {
    "ExecuteTime": {
     "end_time": "2025-01-07T12:06:54.274723Z",
     "start_time": "2025-01-07T12:06:54.251715Z"
    }
   },
   "cell_type": "code",
   "source": [
    "from sklearn.model_selection import KFold\n",
    "\n",
    "kf = KFold(n_splits=10, shuffle=True, random_state=42)\n",
    "\n",
    "scores = []\n",
    "\n",
    "for train_index, test_index in kf.split(X, y):\n",
    "    X_train, X_test = X[train_index], X[test_index]\n",
    "    y_train, y_test = y[train_index], y[test_index]\n",
    "\n",
    "    model = LogisticRegression()\n",
    "    model.fit(X_train, y_train)\n",
    "    scores.append(model.score(X_test, y_test))\n",
    "    print(Counter(y_test))\n",
    "\n",
    "    # y_pred = model.predict(X_test)\n",
    "    #\n",
    "    # print(classification_report(y_test, y_pred))\n",
    "\n",
    "scores\n",
    "np.average(scores)"
   ],
   "id": "4fef14dab4d3066a",
   "outputs": [
    {
     "name": "stdout",
     "output_type": "stream",
     "text": [
      "Counter({np.int64(0): 85, np.int64(1): 15})\n",
      "Counter({np.int64(0): 89, np.int64(1): 11})\n",
      "Counter({np.int64(0): 92, np.int64(1): 8})\n",
      "Counter({np.int64(0): 89, np.int64(1): 11})\n",
      "Counter({np.int64(0): 90, np.int64(1): 10})\n",
      "Counter({np.int64(0): 89, np.int64(1): 11})\n",
      "Counter({np.int64(0): 92, np.int64(1): 8})\n",
      "Counter({np.int64(0): 90, np.int64(1): 10})\n",
      "Counter({np.int64(0): 87, np.int64(1): 13})\n",
      "Counter({np.int64(0): 89, np.int64(1): 11})\n"
     ]
    },
    {
     "data": {
      "text/plain": [
       "np.float64(0.901)"
      ]
     },
     "execution_count": 45,
     "metadata": {},
     "output_type": "execute_result"
    }
   ],
   "execution_count": 45
  },
  {
   "metadata": {
    "ExecuteTime": {
     "end_time": "2025-01-07T12:08:06.265639Z",
     "start_time": "2025-01-07T12:08:06.243807Z"
    }
   },
   "cell_type": "code",
   "source": [
    "from sklearn.model_selection import cross_val_score\n",
    "\n",
    "np.average(cross_val_score(LogisticRegression(), X, y, cv=kf))"
   ],
   "id": "88a37bf79ac33c7f",
   "outputs": [
    {
     "data": {
      "text/plain": [
       "np.float64(0.901)"
      ]
     },
     "execution_count": 46,
     "metadata": {},
     "output_type": "execute_result"
    }
   ],
   "execution_count": 46
  },
  {
   "metadata": {
    "ExecuteTime": {
     "end_time": "2025-01-07T11:56:16.639117Z",
     "start_time": "2025-01-07T11:56:16.595052Z"
    }
   },
   "cell_type": "code",
   "source": [
    "from sklearn.tree import DecisionTreeClassifier\n",
    "\n",
    "np.average(cross_val_score(DecisionTreeClassifier(), X, y, cv=kf))"
   ],
   "id": "1bff9ce6a5693772",
   "outputs": [
    {
     "data": {
      "text/plain": [
       "np.float64(0.8800000000000001)"
      ]
     },
     "execution_count": 36,
     "metadata": {},
     "output_type": "execute_result"
    }
   ],
   "execution_count": 36
  },
  {
   "metadata": {
    "ExecuteTime": {
     "end_time": "2025-01-07T12:08:57.375082Z",
     "start_time": "2025-01-07T12:08:56.325177Z"
    }
   },
   "cell_type": "code",
   "source": [
    "from sklearn.ensemble import RandomForestClassifier\n",
    "\n",
    "np.average(cross_val_score(RandomForestClassifier(), X, y, cv=kf))"
   ],
   "id": "e774497a622c1dd6",
   "outputs": [
    {
     "data": {
      "text/plain": [
       "np.float64(0.9549999999999998)"
      ]
     },
     "execution_count": 47,
     "metadata": {},
     "output_type": "execute_result"
    }
   ],
   "execution_count": 47
  },
  {
   "metadata": {
    "ExecuteTime": {
     "end_time": "2025-01-07T11:56:36.343297Z",
     "start_time": "2025-01-07T11:56:36.116175Z"
    }
   },
   "cell_type": "code",
   "source": [
    "from sklearn.model_selection import cross_validate\n",
    "\n",
    "cross_validate(\n",
    "    RandomForestClassifier(n_estimators=20),\n",
    "    X,\n",
    "    y,\n",
    "    cv=kf,\n",
    "    scoring=['accuracy', 'roc_auc']\n",
    ")"
   ],
   "id": "ea145207725ba0c0",
   "outputs": [
    {
     "data": {
      "text/plain": [
       "{'fit_time': array([0.03125286, 0.02243876, 0.01956677, 0.01865411, 0.01935911,\n",
       "        0.01901412, 0.01878691, 0.0193038 , 0.01897192, 0.01866198]),\n",
       " 'score_time': array([0.00213242, 0.001616  , 0.00145102, 0.001405  , 0.00148773,\n",
       "        0.00158477, 0.00148821, 0.00166011, 0.00145102, 0.00146294]),\n",
       " 'test_accuracy': array([0.91, 0.89, 0.93, 0.88, 0.94, 0.96, 0.9 , 0.94, 0.94, 0.91]),\n",
       " 'test_roc_auc': array([0.96135266, 0.9348    , 0.9819928 , 0.93186455, 0.98319328,\n",
       "        0.984     , 0.97354167, 0.98454436, 0.96651786, 0.95118047])}"
      ]
     },
     "execution_count": 40,
     "metadata": {},
     "output_type": "execute_result"
    }
   ],
   "execution_count": 40
  },
  {
   "metadata": {
    "ExecuteTime": {
     "end_time": "2025-01-07T11:56:17.260220Z",
     "start_time": "2025-01-07T11:56:17.259097Z"
    }
   },
   "cell_type": "code",
   "source": "",
   "id": "b3b660d86d125ffa",
   "outputs": [],
   "execution_count": null
  }
 ],
 "metadata": {
  "kernelspec": {
   "name": "python3",
   "language": "python",
   "display_name": "Python 3 (ipykernel)"
  }
 },
 "nbformat": 5,
 "nbformat_minor": 9
}
