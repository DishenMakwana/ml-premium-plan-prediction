{
 "cells": [
  {
   "metadata": {
    "ExecuteTime": {
     "end_time": "2025-01-07T12:05:31.249657Z",
     "start_time": "2025-01-07T12:05:31.240923Z"
    }
   },
   "cell_type": "code",
   "source": [
    "import numpy as np\n",
    "import pandas as pd\n",
    "import matplotlib.pyplot as plt\n",
    "from sklearn.datasets import make_classification\n",
    "from sklearn.linear_model import LogisticRegression\n",
    "from sklearn.model_selection import train_test_split\n",
    "from sklearn.metrics import classification_report\n",
    "from collections import Counter"
   ],
   "id": "71e664c520bff370",
   "outputs": [],
   "execution_count": 4
  },
  {
   "metadata": {
    "ExecuteTime": {
     "end_time": "2025-01-07T12:09:54.061940Z",
     "start_time": "2025-01-07T12:09:54.052616Z"
    }
   },
   "cell_type": "code",
   "source": [
    "X, y = make_classification(\n",
    "    n_features=10,\n",
    "    n_samples=1000,\n",
    "    n_informative=8,\n",
    "    n_redundant=2,\n",
    "    n_repeated=0,\n",
    "    n_classes=2,\n",
    "    weights = [0.9, 0.1],\n",
    "    random_state=42\n",
    ")\n",
    "\n",
    "X_train, X_test, y_train, y_test = train_test_split(X, y, test_size=0.3, random_state=42)"
   ],
   "id": "5c588bb4dd4d042a",
   "outputs": [],
   "execution_count": 12
  },
  {
   "metadata": {
    "ExecuteTime": {
     "end_time": "2025-01-07T12:10:11.792399Z",
     "start_time": "2025-01-07T12:10:11.770282Z"
    }
   },
   "cell_type": "code",
   "source": [
    "model = LogisticRegression()\n",
    "model.fit(X_train, y_train)\n",
    "\n",
    "y_pred = model.predict(X_test)\n",
    "\n",
    "print(classification_report(y_test, y_pred))"
   ],
   "id": "d66b07743d986718",
   "outputs": [
    {
     "name": "stdout",
     "output_type": "stream",
     "text": [
      "              precision    recall  f1-score   support\n",
      "\n",
      "           0       0.89      1.00      0.94       266\n",
      "           1       0.00      0.00      0.00        34\n",
      "\n",
      "    accuracy                           0.88       300\n",
      "   macro avg       0.44      0.50      0.47       300\n",
      "weighted avg       0.79      0.88      0.83       300\n",
      "\n"
     ]
    }
   ],
   "execution_count": 13
  },
  {
   "metadata": {
    "ExecuteTime": {
     "end_time": "2025-01-07T12:10:22.099393Z",
     "start_time": "2025-01-07T12:10:22.086422Z"
    }
   },
   "cell_type": "code",
   "source": [
    "from sklearn.model_selection import StratifiedKFold\n",
    "\n",
    "skf = StratifiedKFold(n_splits=5, shuffle=True, random_state=42)\n",
    "\n",
    "scores = []\n",
    "\n",
    "for train_index, test_index in skf.split(X, y):\n",
    "    X_train, X_test = X[train_index], X[test_index]\n",
    "    y_train, y_test = y[train_index], y[test_index]\n",
    "\n",
    "    model = LogisticRegression()\n",
    "    model.fit(X_train, y_train)\n",
    "    scores.append(model.score(X_test, y_test))\n",
    "    print(Counter(y_test))\n",
    "\n",
    "    # y_pred = model.predict(X_test)\n",
    "    #\n",
    "    # print(classification_report(y_test, y_pred))\n",
    "\n",
    "scores\n",
    "np.average(scores)"
   ],
   "id": "c2da996e9911c490",
   "outputs": [
    {
     "name": "stdout",
     "output_type": "stream",
     "text": [
      "Counter({np.int64(0): 180, np.int64(1): 20})\n",
      "Counter({np.int64(0): 180, np.int64(1): 20})\n",
      "Counter({np.int64(0): 179, np.int64(1): 21})\n",
      "Counter({np.int64(0): 179, np.int64(1): 21})\n",
      "Counter({np.int64(0): 179, np.int64(1): 21})\n"
     ]
    },
    {
     "data": {
      "text/plain": [
       "np.float64(0.9019999999999999)"
      ]
     },
     "execution_count": 14,
     "metadata": {},
     "output_type": "execute_result"
    }
   ],
   "execution_count": 14
  },
  {
   "metadata": {
    "ExecuteTime": {
     "end_time": "2025-01-07T12:10:48.971561Z",
     "start_time": "2025-01-07T12:10:48.951676Z"
    }
   },
   "cell_type": "code",
   "source": [
    "from sklearn.model_selection import cross_val_score\n",
    "\n",
    "np.average(cross_val_score(LogisticRegression(), X, y, cv=skf))"
   ],
   "id": "5c7427956dd816c1",
   "outputs": [
    {
     "data": {
      "text/plain": [
       "np.float64(0.9019999999999999)"
      ]
     },
     "execution_count": 15,
     "metadata": {},
     "output_type": "execute_result"
    }
   ],
   "execution_count": 15
  },
  {
   "metadata": {
    "ExecuteTime": {
     "end_time": "2025-01-07T12:10:50.661412Z",
     "start_time": "2025-01-07T12:10:50.625282Z"
    }
   },
   "cell_type": "code",
   "source": [
    "from sklearn.tree import DecisionTreeClassifier\n",
    "\n",
    "np.average(cross_val_score(DecisionTreeClassifier(), X, y, cv=skf))"
   ],
   "id": "c05aaeef0a82e1f9",
   "outputs": [
    {
     "data": {
      "text/plain": [
       "np.float64(0.8940000000000001)"
      ]
     },
     "execution_count": 16,
     "metadata": {},
     "output_type": "execute_result"
    }
   ],
   "execution_count": 16
  },
  {
   "metadata": {
    "ExecuteTime": {
     "end_time": "2025-01-07T12:10:53.339422Z",
     "start_time": "2025-01-07T12:10:52.815743Z"
    }
   },
   "cell_type": "code",
   "source": [
    "from sklearn.ensemble import RandomForestClassifier\n",
    "\n",
    "np.average(cross_val_score(RandomForestClassifier(), X, y, cv=skf))"
   ],
   "id": "37aba2ea62199023",
   "outputs": [
    {
     "data": {
      "text/plain": [
       "np.float64(0.916)"
      ]
     },
     "execution_count": 17,
     "metadata": {},
     "output_type": "execute_result"
    }
   ],
   "execution_count": 17
  },
  {
   "metadata": {
    "ExecuteTime": {
     "end_time": "2025-01-07T12:11:36.139335Z",
     "start_time": "2025-01-07T12:11:36.071715Z"
    }
   },
   "cell_type": "code",
   "source": "np.average(cross_val_score(RandomForestClassifier(n_estimators=10), X, y, cv=5))",
   "id": "ad3fcc989deb65ee",
   "outputs": [
    {
     "data": {
      "text/plain": [
       "np.float64(0.914)"
      ]
     },
     "execution_count": 19,
     "metadata": {},
     "output_type": "execute_result"
    }
   ],
   "execution_count": 19
  },
  {
   "metadata": {},
   "cell_type": "code",
   "outputs": [],
   "execution_count": null,
   "source": "",
   "id": "36c0ab8d5ed17922"
  }
 ],
 "metadata": {
  "kernelspec": {
   "name": "python3",
   "language": "python",
   "display_name": "Python 3 (ipykernel)"
  }
 },
 "nbformat": 5,
 "nbformat_minor": 9
}
