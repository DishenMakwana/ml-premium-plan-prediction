{
 "cells": [
  {
   "metadata": {
    "ExecuteTime": {
     "end_time": "2025-01-08T06:35:00.613238Z",
     "start_time": "2025-01-08T06:35:00.611661Z"
    }
   },
   "cell_type": "code",
   "source": "import pandas as pd",
   "id": "6880e71035645e55",
   "outputs": [],
   "execution_count": 14
  },
  {
   "metadata": {
    "ExecuteTime": {
     "end_time": "2025-01-08T06:35:01.569295Z",
     "start_time": "2025-01-08T06:35:01.560298Z"
    }
   },
   "cell_type": "code",
   "source": [
    "df = pd.read_csv('churn.csv')\n",
    "\n",
    "df.head()"
   ],
   "id": "4df56a7435b5719f",
   "outputs": [
    {
     "data": {
      "text/plain": [
       "   Call  Failure  Complains  Subscription  Length  Charge  Amount  \\\n",
       "0              8          0                    38               0   \n",
       "1              0          0                    39               0   \n",
       "2             10          0                    37               0   \n",
       "3             10          0                    38               0   \n",
       "4              3          0                    38               0   \n",
       "\n",
       "   Seconds of Use  Frequency of use  Frequency of SMS  \\\n",
       "0            4370                71                 5   \n",
       "1             318                 5                 7   \n",
       "2            2453                60               359   \n",
       "3            4198                66                 1   \n",
       "4            2393                58                 2   \n",
       "\n",
       "   Distinct Called Numbers  Age Group  Tariff Plan  Status  Age  \\\n",
       "0                       17          3            1       1   30   \n",
       "1                        4          2            1       2   25   \n",
       "2                       24          3            1       1   30   \n",
       "3                       35          1            1       1   15   \n",
       "4                       33          1            1       1   15   \n",
       "\n",
       "   Customer Value  Churn  \n",
       "0         197.640      0  \n",
       "1          46.035      0  \n",
       "2        1536.520      0  \n",
       "3         240.020      0  \n",
       "4         145.805      0  "
      ],
      "text/html": [
       "<div>\n",
       "<style scoped>\n",
       "    .dataframe tbody tr th:only-of-type {\n",
       "        vertical-align: middle;\n",
       "    }\n",
       "\n",
       "    .dataframe tbody tr th {\n",
       "        vertical-align: top;\n",
       "    }\n",
       "\n",
       "    .dataframe thead th {\n",
       "        text-align: right;\n",
       "    }\n",
       "</style>\n",
       "<table border=\"1\" class=\"dataframe\">\n",
       "  <thead>\n",
       "    <tr style=\"text-align: right;\">\n",
       "      <th></th>\n",
       "      <th>Call  Failure</th>\n",
       "      <th>Complains</th>\n",
       "      <th>Subscription  Length</th>\n",
       "      <th>Charge  Amount</th>\n",
       "      <th>Seconds of Use</th>\n",
       "      <th>Frequency of use</th>\n",
       "      <th>Frequency of SMS</th>\n",
       "      <th>Distinct Called Numbers</th>\n",
       "      <th>Age Group</th>\n",
       "      <th>Tariff Plan</th>\n",
       "      <th>Status</th>\n",
       "      <th>Age</th>\n",
       "      <th>Customer Value</th>\n",
       "      <th>Churn</th>\n",
       "    </tr>\n",
       "  </thead>\n",
       "  <tbody>\n",
       "    <tr>\n",
       "      <th>0</th>\n",
       "      <td>8</td>\n",
       "      <td>0</td>\n",
       "      <td>38</td>\n",
       "      <td>0</td>\n",
       "      <td>4370</td>\n",
       "      <td>71</td>\n",
       "      <td>5</td>\n",
       "      <td>17</td>\n",
       "      <td>3</td>\n",
       "      <td>1</td>\n",
       "      <td>1</td>\n",
       "      <td>30</td>\n",
       "      <td>197.640</td>\n",
       "      <td>0</td>\n",
       "    </tr>\n",
       "    <tr>\n",
       "      <th>1</th>\n",
       "      <td>0</td>\n",
       "      <td>0</td>\n",
       "      <td>39</td>\n",
       "      <td>0</td>\n",
       "      <td>318</td>\n",
       "      <td>5</td>\n",
       "      <td>7</td>\n",
       "      <td>4</td>\n",
       "      <td>2</td>\n",
       "      <td>1</td>\n",
       "      <td>2</td>\n",
       "      <td>25</td>\n",
       "      <td>46.035</td>\n",
       "      <td>0</td>\n",
       "    </tr>\n",
       "    <tr>\n",
       "      <th>2</th>\n",
       "      <td>10</td>\n",
       "      <td>0</td>\n",
       "      <td>37</td>\n",
       "      <td>0</td>\n",
       "      <td>2453</td>\n",
       "      <td>60</td>\n",
       "      <td>359</td>\n",
       "      <td>24</td>\n",
       "      <td>3</td>\n",
       "      <td>1</td>\n",
       "      <td>1</td>\n",
       "      <td>30</td>\n",
       "      <td>1536.520</td>\n",
       "      <td>0</td>\n",
       "    </tr>\n",
       "    <tr>\n",
       "      <th>3</th>\n",
       "      <td>10</td>\n",
       "      <td>0</td>\n",
       "      <td>38</td>\n",
       "      <td>0</td>\n",
       "      <td>4198</td>\n",
       "      <td>66</td>\n",
       "      <td>1</td>\n",
       "      <td>35</td>\n",
       "      <td>1</td>\n",
       "      <td>1</td>\n",
       "      <td>1</td>\n",
       "      <td>15</td>\n",
       "      <td>240.020</td>\n",
       "      <td>0</td>\n",
       "    </tr>\n",
       "    <tr>\n",
       "      <th>4</th>\n",
       "      <td>3</td>\n",
       "      <td>0</td>\n",
       "      <td>38</td>\n",
       "      <td>0</td>\n",
       "      <td>2393</td>\n",
       "      <td>58</td>\n",
       "      <td>2</td>\n",
       "      <td>33</td>\n",
       "      <td>1</td>\n",
       "      <td>1</td>\n",
       "      <td>1</td>\n",
       "      <td>15</td>\n",
       "      <td>145.805</td>\n",
       "      <td>0</td>\n",
       "    </tr>\n",
       "  </tbody>\n",
       "</table>\n",
       "</div>"
      ]
     },
     "execution_count": 15,
     "metadata": {},
     "output_type": "execute_result"
    }
   ],
   "execution_count": 15
  },
  {
   "metadata": {
    "ExecuteTime": {
     "end_time": "2025-01-08T06:35:03.112568Z",
     "start_time": "2025-01-08T06:35:03.110074Z"
    }
   },
   "cell_type": "code",
   "source": "df.shape",
   "id": "ee8dc213b47be4b2",
   "outputs": [
    {
     "data": {
      "text/plain": [
       "(3150, 14)"
      ]
     },
     "execution_count": 16,
     "metadata": {},
     "output_type": "execute_result"
    }
   ],
   "execution_count": 16
  },
  {
   "metadata": {
    "ExecuteTime": {
     "end_time": "2025-01-08T06:37:46.679226Z",
     "start_time": "2025-01-08T06:37:46.661798Z"
    }
   },
   "cell_type": "code",
   "source": "df.Churn.value_counts()",
   "id": "e7abd35da8eaddb0",
   "outputs": [
    {
     "data": {
      "text/plain": [
       "Churn\n",
       "0    2655\n",
       "1     495\n",
       "Name: count, dtype: int64"
      ]
     },
     "execution_count": 29,
     "metadata": {},
     "output_type": "execute_result"
    }
   ],
   "execution_count": 29
  },
  {
   "metadata": {
    "ExecuteTime": {
     "end_time": "2025-01-08T06:35:04.564444Z",
     "start_time": "2025-01-08T06:35:04.519690Z"
    }
   },
   "cell_type": "code",
   "source": "df.Churn.value_counts().plot(kind=\"bar\")",
   "id": "2776f1b0c7cf7eb4",
   "outputs": [
    {
     "data": {
      "text/plain": [
       "<Axes: xlabel='Churn'>"
      ]
     },
     "execution_count": 17,
     "metadata": {},
     "output_type": "execute_result"
    },
    {
     "data": {
      "text/plain": [
       "<Figure size 640x480 with 1 Axes>"
      ],
      "image/png": "[encoded data removed]"
     },
     "metadata": {},
     "output_type": "display_data"
    }
   ],
   "execution_count": 17
  },
  {
   "metadata": {
    "ExecuteTime": {
     "end_time": "2025-01-08T06:35:06.333168Z",
     "start_time": "2025-01-08T06:35:06.329960Z"
    }
   },
   "cell_type": "code",
   "source": "df.isna().sum()",
   "id": "7b935c90a5cb43f1",
   "outputs": [
    {
     "data": {
      "text/plain": [
       "Call  Failure              0\n",
       "Complains                  0\n",
       "Subscription  Length       0\n",
       "Charge  Amount             0\n",
       "Seconds of Use             0\n",
       "Frequency of use           0\n",
       "Frequency of SMS           0\n",
       "Distinct Called Numbers    0\n",
       "Age Group                  0\n",
       "Tariff Plan                0\n",
       "Status                     0\n",
       "Age                        0\n",
       "Customer Value             0\n",
       "Churn                      0\n",
       "dtype: int64"
      ]
     },
     "execution_count": 18,
     "metadata": {},
     "output_type": "execute_result"
    }
   ],
   "execution_count": 18
  },
  {
   "metadata": {
    "ExecuteTime": {
     "end_time": "2025-01-08T06:35:10.898743Z",
     "start_time": "2025-01-08T06:35:10.895990Z"
    }
   },
   "cell_type": "code",
   "source": [
    "X = df.drop(\"Churn\", axis=1)\n",
    "y = df['Churn']"
   ],
   "id": "a216a0483a439fb9",
   "outputs": [],
   "execution_count": 19
  },
  {
   "metadata": {
    "ExecuteTime": {
     "end_time": "2025-01-08T06:35:12.938613Z",
     "start_time": "2025-01-08T06:35:12.315362Z"
    }
   },
   "cell_type": "code",
   "source": [
    "from sklearn.model_selection import train_test_split\n",
    "from sklearn.linear_model import LogisticRegression\n",
    "from sklearn.metrics import accuracy_score, classification_report\n",
    "\n",
    "X_train, X_test, y_train, y_test = train_test_split(X, y, test_size=0.2, random_state=42, stratify=y)\n",
    "\n",
    "model = LogisticRegression(max_iter=10000)\n",
    "model.fit(X_train, y_train)\n",
    "\n",
    "y_pred = model.predict(X_test)\n",
    "print(accuracy_score(y_test, y_pred))\n",
    "print(classification_report(y_test, y_pred))"
   ],
   "id": "95243a8c87b3755a",
   "outputs": [
    {
     "name": "stdout",
     "output_type": "stream",
     "text": [
      "0.8888888888888888\n",
      "              precision    recall  f1-score   support\n",
      "\n",
      "           0       0.90      0.98      0.94       531\n",
      "           1       0.78      0.40      0.53        99\n",
      "\n",
      "    accuracy                           0.89       630\n",
      "   macro avg       0.84      0.69      0.74       630\n",
      "weighted avg       0.88      0.89      0.87       630\n",
      "\n"
     ]
    }
   ],
   "execution_count": 20
  },
  {
   "metadata": {
    "ExecuteTime": {
     "end_time": "2025-01-08T06:35:15.221473Z",
     "start_time": "2025-01-08T06:35:15.218596Z"
    }
   },
   "cell_type": "code",
   "source": "y_train.value_counts()",
   "id": "b7c5e030ee5b0ba1",
   "outputs": [
    {
     "data": {
      "text/plain": [
       "Churn\n",
       "0    2124\n",
       "1     396\n",
       "Name: count, dtype: int64"
      ]
     },
     "execution_count": 21,
     "metadata": {},
     "output_type": "execute_result"
    }
   ],
   "execution_count": 21
  },
  {
   "metadata": {
    "ExecuteTime": {
     "end_time": "2025-01-08T06:35:17.005911Z",
     "start_time": "2025-01-08T06:35:16.865416Z"
    }
   },
   "cell_type": "code",
   "source": [
    "from imblearn.under_sampling import RandomUnderSampler\n",
    "\n",
    "rus = RandomUnderSampler(random_state=42)\n",
    "X_train_run, y_train_run = rus.fit_resample(X_train, y_train)\n",
    "y_train_run.value_counts()"
   ],
   "id": "fbf9647d8000c4da",
   "outputs": [
    {
     "data": {
      "text/plain": [
       "Churn\n",
       "0    396\n",
       "1    396\n",
       "Name: count, dtype: int64"
      ]
     },
     "execution_count": 22,
     "metadata": {},
     "output_type": "execute_result"
    }
   ],
   "execution_count": 22
  },
  {
   "metadata": {
    "ExecuteTime": {
     "end_time": "2025-01-08T06:35:19.284320Z",
     "start_time": "2025-01-08T06:35:18.970944Z"
    }
   },
   "cell_type": "code",
   "source": [
    "model = LogisticRegression(max_iter=10000)\n",
    "model.fit(X_train_run, y_train_run)\n",
    "\n",
    "y_pred = model.predict(X_test)\n",
    "print(accuracy_score(y_test, y_pred))\n",
    "print(classification_report(y_test, y_pred))"
   ],
   "id": "a21a2e0096bea3f7",
   "outputs": [
    {
     "name": "stdout",
     "output_type": "stream",
     "text": [
      "0.819047619047619\n",
      "              precision    recall  f1-score   support\n",
      "\n",
      "           0       0.97      0.81      0.88       531\n",
      "           1       0.46      0.85      0.60        99\n",
      "\n",
      "    accuracy                           0.82       630\n",
      "   macro avg       0.71      0.83      0.74       630\n",
      "weighted avg       0.89      0.82      0.84       630\n",
      "\n"
     ]
    }
   ],
   "execution_count": 23
  },
  {
   "metadata": {
    "ExecuteTime": {
     "end_time": "2025-01-08T06:35:21.515159Z",
     "start_time": "2025-01-08T06:35:21.505364Z"
    }
   },
   "cell_type": "code",
   "source": [
    "# import SMOTE\n",
    "\n",
    "from imblearn.over_sampling import SMOTE\n",
    "\n",
    "smote = SMOTE(random_state=42)\n",
    "X_train_smote, y_train_smote = smote.fit_resample(X_train, y_train)\n",
    "\n",
    "y_train_smote.value_counts()"
   ],
   "id": "381944755464cd8b",
   "outputs": [
    {
     "data": {
      "text/plain": [
       "Churn\n",
       "0    2124\n",
       "1    2124\n",
       "Name: count, dtype: int64"
      ]
     },
     "execution_count": 24,
     "metadata": {},
     "output_type": "execute_result"
    }
   ],
   "execution_count": 24
  },
  {
   "metadata": {
    "ExecuteTime": {
     "end_time": "2025-01-08T06:35:23.490356Z",
     "start_time": "2025-01-08T06:35:23.089363Z"
    }
   },
   "cell_type": "code",
   "source": [
    "model = LogisticRegression(max_iter=10000)\n",
    "model.fit(X_train_smote, y_train_smote)\n",
    "\n",
    "y_pred = model.predict(X_test)\n",
    "print(accuracy_score(y_test, y_pred))\n",
    "print(classification_report(y_test, y_pred))"
   ],
   "id": "31e8bb7cc739411e",
   "outputs": [
    {
     "name": "stdout",
     "output_type": "stream",
     "text": [
      "0.8095238095238095\n",
      "              precision    recall  f1-score   support\n",
      "\n",
      "           0       0.97      0.80      0.88       531\n",
      "           1       0.44      0.85      0.58        99\n",
      "\n",
      "    accuracy                           0.81       630\n",
      "   macro avg       0.71      0.83      0.73       630\n",
      "weighted avg       0.88      0.81      0.83       630\n",
      "\n"
     ]
    }
   ],
   "execution_count": 25
  },
  {
   "metadata": {
    "ExecuteTime": {
     "end_time": "2025-01-08T06:35:24.902674Z",
     "start_time": "2025-01-08T06:35:24.885238Z"
    }
   },
   "cell_type": "code",
   "source": [
    "from imblearn.combine import SMOTETomek\n",
    "\n",
    "smote_enn = SMOTETomek(random_state=42)\n",
    "X_train_smoteenn, y_train_smoteenn = smote_enn.fit_resample(X_train, y_train)\n",
    "\n",
    "y_train_smoteenn.value_counts()"
   ],
   "id": "f9f3508dfd4b25b",
   "outputs": [
    {
     "data": {
      "text/plain": [
       "Churn\n",
       "0    2091\n",
       "1    2091\n",
       "Name: count, dtype: int64"
      ]
     },
     "execution_count": 26,
     "metadata": {},
     "output_type": "execute_result"
    }
   ],
   "execution_count": 26
  },
  {
   "metadata": {
    "ExecuteTime": {
     "end_time": "2025-01-08T06:35:26.882699Z",
     "start_time": "2025-01-08T06:35:26.473427Z"
    }
   },
   "cell_type": "code",
   "source": [
    "model = LogisticRegression(max_iter=10000)\n",
    "model.fit(X_train_smoteenn, y_train_smoteenn)\n",
    "\n",
    "y_pred = model.predict(X_test)\n",
    "print(accuracy_score(y_test, y_pred))\n",
    "print(classification_report(y_test, y_pred))"
   ],
   "id": "9a5dbb36327a58ac",
   "outputs": [
    {
     "name": "stdout",
     "output_type": "stream",
     "text": [
      "0.8111111111111111\n",
      "              precision    recall  f1-score   support\n",
      "\n",
      "           0       0.97      0.80      0.88       531\n",
      "           1       0.45      0.86      0.59        99\n",
      "\n",
      "    accuracy                           0.81       630\n",
      "   macro avg       0.71      0.83      0.73       630\n",
      "weighted avg       0.89      0.81      0.83       630\n",
      "\n"
     ]
    }
   ],
   "execution_count": 27
  },
  {
   "metadata": {
    "ExecuteTime": {
     "end_time": "2025-01-08T06:45:14.789616Z",
     "start_time": "2025-01-08T06:45:14.171492Z"
    }
   },
   "cell_type": "code",
   "source": [
    "from xgboost import XGBRegressor\n",
    "\n",
    "model = XGBRegressor()\n",
    "model.fit(X_train, y_train)\n",
    "\n",
    "y_pred = model.predict(X_test)\n",
    "print(accuracy_score(y_test, y_pred.round()), 'X_train')\n",
    "# print(classification_report(y_test, y_pred.round()))\n",
    "\n",
    "print('-'*50)\n",
    "\n",
    "model = XGBRegressor()\n",
    "model.fit(X_train_run, y_train_run)\n",
    "\n",
    "y_pred = model.predict(X_test)\n",
    "print(accuracy_score(y_test, y_pred.round()), 'X_train_run')\n",
    "# print(classification_report(y_test, y_pred.round()))\n",
    "\n",
    "print('-'*50)\n",
    "\n",
    "model = XGBRegressor()\n",
    "model.fit(X_train_smote, y_train_smote)\n",
    "\n",
    "y_pred = model.predict(X_test)\n",
    "print(accuracy_score(y_test, y_pred.round()), 'X_train_smote')\n",
    "# print(classification_report(y_test, y_pred.round()))\n",
    "\n",
    "print('-'*50)\n",
    "\n",
    "model = XGBRegressor()\n",
    "model.fit(X_train_smoteenn, y_train_smoteenn)\n",
    "\n",
    "y_pred = model.predict(X_test)\n",
    "print(accuracy_score(y_test, y_pred.round()), 'X_train_smoteenn')\n",
    "# print(classification_report(y_test, y_pred.round()))"
   ],
   "id": "873716bb723cafe9",
   "outputs": [
    {
     "name": "stdout",
     "output_type": "stream",
     "text": [
      "0.9650793650793651 X_train\n",
      "--------------------------------------------------\n",
      "0.9047619047619048 X_train_run\n",
      "--------------------------------------------------\n",
      "0.9412698412698413 X_train_smote\n",
      "--------------------------------------------------\n",
      "0.9412698412698413 X_train_smoteenn\n"
     ]
    }
   ],
   "execution_count": 32
  },
  {
   "metadata": {
    "ExecuteTime": {
     "end_time": "2025-01-08T06:53:36.574482Z",
     "start_time": "2025-01-08T06:53:35.843658Z"
    }
   },
   "cell_type": "code",
   "source": [
    "from sklearn.model_selection import StratifiedKFold\n",
    "import numpy as np\n",
    "\n",
    "skf = StratifiedKFold(n_splits=5, shuffle=True, random_state=42)\n",
    "\n",
    "from sklearn.model_selection import cross_val_score\n",
    "\n",
    "print((cross_val_score(XGBRegressor(), X, y, cv=skf)))"
   ],
   "id": "fa9d78072df72d4d",
   "outputs": [
    {
     "name": "stdout",
     "output_type": "stream",
     "text": [
      "[0.72942984 0.74243391 0.73926544 0.76782691 0.68595654]\n"
     ]
    }
   ],
   "execution_count": 39
  },
  {
   "metadata": {
    "ExecuteTime": {
     "end_time": "2025-01-08T06:53:40.855509Z",
     "start_time": "2025-01-08T06:53:40.052913Z"
    }
   },
   "cell_type": "code",
   "source": [
    "from sklearn.model_selection import StratifiedKFold\n",
    "import numpy as np\n",
    "\n",
    "skf = StratifiedKFold(n_splits=5, shuffle=True, random_state=42)\n",
    "\n",
    "from sklearn.model_selection import cross_val_score\n",
    "\n",
    "print((cross_val_score(XGBRegressor(), X_train_smoteenn, y_train_smoteenn, cv=skf)))"
   ],
   "id": "568a8db7be6339bf",
   "outputs": [
    {
     "name": "stdout",
     "output_type": "stream",
     "text": [
      "[0.89478451 0.88826126 0.88438076 0.9039169  0.91511261]\n"
     ]
    }
   ],
   "execution_count": 40
  },
  {
   "metadata": {
    "ExecuteTime": {
     "end_time": "2025-01-08T07:00:28.204006Z",
     "start_time": "2025-01-08T07:00:27.556502Z"
    }
   },
   "cell_type": "code",
   "source": [
    "from xgboost import XGBClassifier\n",
    "from sklearn.model_selection import StratifiedKFold\n",
    "import numpy as np\n",
    "\n",
    "skf = StratifiedKFold(n_splits=5, shuffle=True, random_state=42)\n",
    "\n",
    "from sklearn.model_selection import cross_val_score\n",
    "\n",
    "print((cross_val_score(XGBClassifier(), X_train_smoteenn, y_train_smoteenn, cv=skf)))"
   ],
   "id": "8d9886a3b4f1bfba",
   "outputs": [
    {
     "name": "stdout",
     "output_type": "stream",
     "text": [
      "[0.97371565 0.97491039 0.97009569 0.97966507 0.97966507]\n"
     ]
    }
   ],
   "execution_count": 42
  },
  {
   "metadata": {
    "ExecuteTime": {
     "end_time": "2025-01-08T07:05:41.453184Z",
     "start_time": "2025-01-08T07:05:41.433466Z"
    }
   },
   "cell_type": "code",
   "source": [
    "df = pd.read_csv(\"breast_cancer_data.csv\")\n",
    "\n",
    "df.head()"
   ],
   "id": "b0fdc9010c7c2494",
   "outputs": [
    {
     "data": {
      "text/plain": [
       "     age menopause tumor-size inv-nodes node-caps  deg-malig breast  \\\n",
       "0  30-39   premeno      30-34       0-2        no          3   left   \n",
       "1  40-49   premeno      20-24       0-2        no          2  right   \n",
       "2  40-49   premeno      20-24       0-2        no          2   left   \n",
       "3  60-69      ge40      15-19       0-2        no          2  right   \n",
       "4  40-49   premeno        0-4       0-2        no          2  right   \n",
       "\n",
       "  breast-quad irradiat                 class  \n",
       "0    left_low       no  no-recurrence-events  \n",
       "1    right_up       no  no-recurrence-events  \n",
       "2    left_low       no  no-recurrence-events  \n",
       "3     left_up       no  no-recurrence-events  \n",
       "4   right_low       no  no-recurrence-events  "
      ],
      "text/html": [
       "<div>\n",
       "<style scoped>\n",
       "    .dataframe tbody tr th:only-of-type {\n",
       "        vertical-align: middle;\n",
       "    }\n",
       "\n",
       "    .dataframe tbody tr th {\n",
       "        vertical-align: top;\n",
       "    }\n",
       "\n",
       "    .dataframe thead th {\n",
       "        text-align: right;\n",
       "    }\n",
       "</style>\n",
       "<table border=\"1\" class=\"dataframe\">\n",
       "  <thead>\n",
       "    <tr style=\"text-align: right;\">\n",
       "      <th></th>\n",
       "      <th>age</th>\n",
       "      <th>menopause</th>\n",
       "      <th>tumor-size</th>\n",
       "      <th>inv-nodes</th>\n",
       "      <th>node-caps</th>\n",
       "      <th>deg-malig</th>\n",
       "      <th>breast</th>\n",
       "      <th>breast-quad</th>\n",
       "      <th>irradiat</th>\n",
       "      <th>class</th>\n",
       "    </tr>\n",
       "  </thead>\n",
       "  <tbody>\n",
       "    <tr>\n",
       "      <th>0</th>\n",
       "      <td>30-39</td>\n",
       "      <td>premeno</td>\n",
       "      <td>30-34</td>\n",
       "      <td>0-2</td>\n",
       "      <td>no</td>\n",
       "      <td>3</td>\n",
       "      <td>left</td>\n",
       "      <td>left_low</td>\n",
       "      <td>no</td>\n",
       "      <td>no-recurrence-events</td>\n",
       "    </tr>\n",
       "    <tr>\n",
       "      <th>1</th>\n",
       "      <td>40-49</td>\n",
       "      <td>premeno</td>\n",
       "      <td>20-24</td>\n",
       "      <td>0-2</td>\n",
       "      <td>no</td>\n",
       "      <td>2</td>\n",
       "      <td>right</td>\n",
       "      <td>right_up</td>\n",
       "      <td>no</td>\n",
       "      <td>no-recurrence-events</td>\n",
       "    </tr>\n",
       "    <tr>\n",
       "      <th>2</th>\n",
       "      <td>40-49</td>\n",
       "      <td>premeno</td>\n",
       "      <td>20-24</td>\n",
       "      <td>0-2</td>\n",
       "      <td>no</td>\n",
       "      <td>2</td>\n",
       "      <td>left</td>\n",
       "      <td>left_low</td>\n",
       "      <td>no</td>\n",
       "      <td>no-recurrence-events</td>\n",
       "    </tr>\n",
       "    <tr>\n",
       "      <th>3</th>\n",
       "      <td>60-69</td>\n",
       "      <td>ge40</td>\n",
       "      <td>15-19</td>\n",
       "      <td>0-2</td>\n",
       "      <td>no</td>\n",
       "      <td>2</td>\n",
       "      <td>right</td>\n",
       "      <td>left_up</td>\n",
       "      <td>no</td>\n",
       "      <td>no-recurrence-events</td>\n",
       "    </tr>\n",
       "    <tr>\n",
       "      <th>4</th>\n",
       "      <td>40-49</td>\n",
       "      <td>premeno</td>\n",
       "      <td>0-4</td>\n",
       "      <td>0-2</td>\n",
       "      <td>no</td>\n",
       "      <td>2</td>\n",
       "      <td>right</td>\n",
       "      <td>right_low</td>\n",
       "      <td>no</td>\n",
       "      <td>no-recurrence-events</td>\n",
       "    </tr>\n",
       "  </tbody>\n",
       "</table>\n",
       "</div>"
      ]
     },
     "execution_count": 43,
     "metadata": {},
     "output_type": "execute_result"
    }
   ],
   "execution_count": 43
  },
  {
   "metadata": {
    "ExecuteTime": {
     "end_time": "2025-01-08T07:05:54.739466Z",
     "start_time": "2025-01-08T07:05:54.737003Z"
    }
   },
   "cell_type": "code",
   "source": "df.shape",
   "id": "d9307ebefdb88a10",
   "outputs": [
    {
     "data": {
      "text/plain": [
       "(286, 10)"
      ]
     },
     "execution_count": 44,
     "metadata": {},
     "output_type": "execute_result"
    }
   ],
   "execution_count": 44
  },
  {
   "metadata": {
    "ExecuteTime": {
     "end_time": "2025-01-08T07:05:56.534375Z",
     "start_time": "2025-01-08T07:05:56.531206Z"
    }
   },
   "cell_type": "code",
   "source": "df.isna().sum()",
   "id": "9739c8767a1b7e24",
   "outputs": [
    {
     "data": {
      "text/plain": [
       "age            0\n",
       "menopause      0\n",
       "tumor-size     0\n",
       "inv-nodes      0\n",
       "node-caps      8\n",
       "deg-malig      0\n",
       "breast         0\n",
       "breast-quad    0\n",
       "irradiat       0\n",
       "class          0\n",
       "dtype: int64"
      ]
     },
     "execution_count": 45,
     "metadata": {},
     "output_type": "execute_result"
    }
   ],
   "execution_count": 45
  },
  {
   "metadata": {
    "ExecuteTime": {
     "end_time": "2025-01-08T07:05:59.211187Z",
     "start_time": "2025-01-08T07:05:59.145963Z"
    }
   },
   "cell_type": "code",
   "source": [
    "import seaborn as sns\n",
    "import matplotlib.pyplot as plt\n",
    "\n",
    "sns.countplot(x='class', data=df)\n",
    "plt.title('Class Distribution')\n",
    "plt.show()"
   ],
   "id": "3012e734ec836243",
   "outputs": [
    {
     "data": {
      "text/plain": [
       "<Figure size 640x480 with 1 Axes>"
      ],
      "image/png": "[encoded data removed]"
     },
     "metadata": {},
     "output_type": "display_data"
    }
   ],
   "execution_count": 46
  },
  {
   "metadata": {
    "ExecuteTime": {
     "end_time": "2025-01-08T07:06:01.095443Z",
     "start_time": "2025-01-08T07:06:01.091979Z"
    }
   },
   "cell_type": "code",
   "source": "df['class'].value_counts()",
   "id": "f5bb036324935c94",
   "outputs": [
    {
     "data": {
      "text/plain": [
       "class\n",
       "no-recurrence-events    201\n",
       "recurrence-events        85\n",
       "Name: count, dtype: int64"
      ]
     },
     "execution_count": 47,
     "metadata": {},
     "output_type": "execute_result"
    }
   ],
   "execution_count": 47
  },
  {
   "metadata": {
    "ExecuteTime": {
     "end_time": "2025-01-08T07:06:04.010379Z",
     "start_time": "2025-01-08T07:06:03.997038Z"
    }
   },
   "cell_type": "code",
   "source": [
    "df = pd.get_dummies(df, columns=['age', 'menopause', 'tumor-size', 'inv-nodes', 'node-caps', 'breast', 'breast-quad', 'irradiat'], drop_first=True)\n",
    "\n",
    "df.head()"
   ],
   "id": "fc17ff279ce2bb7",
   "outputs": [
    {
     "data": {
      "text/plain": [
       "   deg-malig                 class  age_30-39  age_40-49  age_50-59  \\\n",
       "0          3  no-recurrence-events       True      False      False   \n",
       "1          2  no-recurrence-events      False       True      False   \n",
       "2          2  no-recurrence-events      False       True      False   \n",
       "3          2  no-recurrence-events      False      False      False   \n",
       "4          2  no-recurrence-events      False       True      False   \n",
       "\n",
       "   age_60-69  age_70-79  menopause_lt40  menopause_premeno  tumor-size_09-May  \\\n",
       "0      False      False           False               True              False   \n",
       "1      False      False           False               True              False   \n",
       "2      False      False           False               True              False   \n",
       "3       True      False           False              False              False   \n",
       "4      False      False           False               True              False   \n",
       "\n",
       "   ...  inv-nodes_14-Dec  inv-nodes_15-17  inv-nodes_24-26  node-caps_yes  \\\n",
       "0  ...             False            False            False          False   \n",
       "1  ...             False            False            False          False   \n",
       "2  ...             False            False            False          False   \n",
       "3  ...             False            False            False          False   \n",
       "4  ...             False            False            False          False   \n",
       "\n",
       "   breast_right  breast-quad_left_low  breast-quad_left_up  \\\n",
       "0         False                  True                False   \n",
       "1          True                 False                False   \n",
       "2         False                  True                False   \n",
       "3          True                 False                 True   \n",
       "4          True                 False                False   \n",
       "\n",
       "   breast-quad_right_low  breast-quad_right_up  irradiat_yes  \n",
       "0                  False                 False         False  \n",
       "1                  False                  True         False  \n",
       "2                  False                 False         False  \n",
       "3                  False                 False         False  \n",
       "4                   True                 False         False  \n",
       "\n",
       "[5 rows x 32 columns]"
      ],
      "text/html": [
       "<div>\n",
       "<style scoped>\n",
       "    .dataframe tbody tr th:only-of-type {\n",
       "        vertical-align: middle;\n",
       "    }\n",
       "\n",
       "    .dataframe tbody tr th {\n",
       "        vertical-align: top;\n",
       "    }\n",
       "\n",
       "    .dataframe thead th {\n",
       "        text-align: right;\n",
       "    }\n",
       "</style>\n",
       "<table border=\"1\" class=\"dataframe\">\n",
       "  <thead>\n",
       "    <tr style=\"text-align: right;\">\n",
       "      <th></th>\n",
       "      <th>deg-malig</th>\n",
       "      <th>class</th>\n",
       "      <th>age_30-39</th>\n",
       "      <th>age_40-49</th>\n",
       "      <th>age_50-59</th>\n",
       "      <th>age_60-69</th>\n",
       "      <th>age_70-79</th>\n",
       "      <th>menopause_lt40</th>\n",
       "      <th>menopause_premeno</th>\n",
       "      <th>tumor-size_09-May</th>\n",
       "      <th>...</th>\n",
       "      <th>inv-nodes_14-Dec</th>\n",
       "      <th>inv-nodes_15-17</th>\n",
       "      <th>inv-nodes_24-26</th>\n",
       "      <th>node-caps_yes</th>\n",
       "      <th>breast_right</th>\n",
       "      <th>breast-quad_left_low</th>\n",
       "      <th>breast-quad_left_up</th>\n",
       "      <th>breast-quad_right_low</th>\n",
       "      <th>breast-quad_right_up</th>\n",
       "      <th>irradiat_yes</th>\n",
       "    </tr>\n",
       "  </thead>\n",
       "  <tbody>\n",
       "    <tr>\n",
       "      <th>0</th>\n",
       "      <td>3</td>\n",
       "      <td>no-recurrence-events</td>\n",
       "      <td>True</td>\n",
       "      <td>False</td>\n",
       "      <td>False</td>\n",
       "      <td>False</td>\n",
       "      <td>False</td>\n",
       "      <td>False</td>\n",
       "      <td>True</td>\n",
       "      <td>False</td>\n",
       "      <td>...</td>\n",
       "      <td>False</td>\n",
       "      <td>False</td>\n",
       "      <td>False</td>\n",
       "      <td>False</td>\n",
       "      <td>False</td>\n",
       "      <td>True</td>\n",
       "      <td>False</td>\n",
       "      <td>False</td>\n",
       "      <td>False</td>\n",
       "      <td>False</td>\n",
       "    </tr>\n",
       "    <tr>\n",
       "      <th>1</th>\n",
       "      <td>2</td>\n",
       "      <td>no-recurrence-events</td>\n",
       "      <td>False</td>\n",
       "      <td>True</td>\n",
       "      <td>False</td>\n",
       "      <td>False</td>\n",
       "      <td>False</td>\n",
       "      <td>False</td>\n",
       "      <td>True</td>\n",
       "      <td>False</td>\n",
       "      <td>...</td>\n",
       "      <td>False</td>\n",
       "      <td>False</td>\n",
       "      <td>False</td>\n",
       "      <td>False</td>\n",
       "      <td>True</td>\n",
       "      <td>False</td>\n",
       "      <td>False</td>\n",
       "      <td>False</td>\n",
       "      <td>True</td>\n",
       "      <td>False</td>\n",
       "    </tr>\n",
       "    <tr>\n",
       "      <th>2</th>\n",
       "      <td>2</td>\n",
       "      <td>no-recurrence-events</td>\n",
       "      <td>False</td>\n",
       "      <td>True</td>\n",
       "      <td>False</td>\n",
       "      <td>False</td>\n",
       "      <td>False</td>\n",
       "      <td>False</td>\n",
       "      <td>True</td>\n",
       "      <td>False</td>\n",
       "      <td>...</td>\n",
       "      <td>False</td>\n",
       "      <td>False</td>\n",
       "      <td>False</td>\n",
       "      <td>False</td>\n",
       "      <td>False</td>\n",
       "      <td>True</td>\n",
       "      <td>False</td>\n",
       "      <td>False</td>\n",
       "      <td>False</td>\n",
       "      <td>False</td>\n",
       "    </tr>\n",
       "    <tr>\n",
       "      <th>3</th>\n",
       "      <td>2</td>\n",
       "      <td>no-recurrence-events</td>\n",
       "      <td>False</td>\n",
       "      <td>False</td>\n",
       "      <td>False</td>\n",
       "      <td>True</td>\n",
       "      <td>False</td>\n",
       "      <td>False</td>\n",
       "      <td>False</td>\n",
       "      <td>False</td>\n",
       "      <td>...</td>\n",
       "      <td>False</td>\n",
       "      <td>False</td>\n",
       "      <td>False</td>\n",
       "      <td>False</td>\n",
       "      <td>True</td>\n",
       "      <td>False</td>\n",
       "      <td>True</td>\n",
       "      <td>False</td>\n",
       "      <td>False</td>\n",
       "      <td>False</td>\n",
       "    </tr>\n",
       "    <tr>\n",
       "      <th>4</th>\n",
       "      <td>2</td>\n",
       "      <td>no-recurrence-events</td>\n",
       "      <td>False</td>\n",
       "      <td>True</td>\n",
       "      <td>False</td>\n",
       "      <td>False</td>\n",
       "      <td>False</td>\n",
       "      <td>False</td>\n",
       "      <td>True</td>\n",
       "      <td>False</td>\n",
       "      <td>...</td>\n",
       "      <td>False</td>\n",
       "      <td>False</td>\n",
       "      <td>False</td>\n",
       "      <td>False</td>\n",
       "      <td>True</td>\n",
       "      <td>False</td>\n",
       "      <td>False</td>\n",
       "      <td>True</td>\n",
       "      <td>False</td>\n",
       "      <td>False</td>\n",
       "    </tr>\n",
       "  </tbody>\n",
       "</table>\n",
       "<p>5 rows × 32 columns</p>\n",
       "</div>"
      ]
     },
     "execution_count": 48,
     "metadata": {},
     "output_type": "execute_result"
    }
   ],
   "execution_count": 48
  },
  {
   "metadata": {
    "ExecuteTime": {
     "end_time": "2025-01-08T07:06:07.449659Z",
     "start_time": "2025-01-08T07:06:07.445313Z"
    }
   },
   "cell_type": "code",
   "source": [
    "X = df.drop(\"class\", axis=1)\n",
    "y = df['class']\n",
    "\n",
    "X_train, X_test, y_train, y_test = train_test_split(X, y, test_size=0.2, random_state=42, stratify=y)"
   ],
   "id": "f725b337713dc8cd",
   "outputs": [],
   "execution_count": 49
  },
  {
   "metadata": {
    "ExecuteTime": {
     "end_time": "2025-01-08T07:06:09.397565Z",
     "start_time": "2025-01-08T07:06:09.388289Z"
    }
   },
   "cell_type": "code",
   "source": [
    "model = LogisticRegression()\n",
    "model.fit(X_train, y_train)\n",
    "\n",
    "y_pred = model.predict(X_test)\n",
    "print(accuracy_score(y_test, y_pred))\n",
    "print(classification_report(y_test, y_pred))"
   ],
   "id": "dfeb47fb8fc6217c",
   "outputs": [
    {
     "name": "stdout",
     "output_type": "stream",
     "text": [
      "0.7068965517241379\n",
      "                      precision    recall  f1-score   support\n",
      "\n",
      "no-recurrence-events       0.75      0.88      0.81        41\n",
      "   recurrence-events       0.50      0.29      0.37        17\n",
      "\n",
      "            accuracy                           0.71        58\n",
      "           macro avg       0.62      0.59      0.59        58\n",
      "        weighted avg       0.68      0.71      0.68        58\n",
      "\n"
     ]
    }
   ],
   "execution_count": 50
  },
  {
   "metadata": {
    "ExecuteTime": {
     "end_time": "2025-01-08T07:06:26.625422Z",
     "start_time": "2025-01-08T07:06:26.605946Z"
    }
   },
   "cell_type": "code",
   "source": [
    "rus = RandomUnderSampler(random_state=42)\n",
    "X_train_run, y_train_run = rus.fit_resample(X_train, y_train)\n",
    "\n",
    "model = LogisticRegression()\n",
    "model.fit(X_train_run, y_train_run)\n",
    "\n",
    "y_pred = model.predict(X_test)\n",
    "print(accuracy_score(y_test, y_pred))\n",
    "print(classification_report(y_test, y_pred))"
   ],
   "id": "c6cb7a2805b57124",
   "outputs": [
    {
     "name": "stdout",
     "output_type": "stream",
     "text": [
      "0.5862068965517241\n",
      "                      precision    recall  f1-score   support\n",
      "\n",
      "no-recurrence-events       0.81      0.54      0.65        41\n",
      "   recurrence-events       0.39      0.71      0.50        17\n",
      "\n",
      "            accuracy                           0.59        58\n",
      "           macro avg       0.60      0.62      0.57        58\n",
      "        weighted avg       0.69      0.59      0.60        58\n",
      "\n"
     ]
    }
   ],
   "execution_count": 51
  },
  {
   "metadata": {
    "ExecuteTime": {
     "end_time": "2025-01-08T07:06:49.040063Z",
     "start_time": "2025-01-08T07:06:49.022770Z"
    }
   },
   "cell_type": "code",
   "source": [
    "smote = SMOTE(random_state=42)\n",
    "X_train_smote, y_train_smote = smote.fit_resample(X_train, y_train)\n",
    "\n",
    "model = LogisticRegression()\n",
    "model.fit(X_train_smote, y_train_smote)\n",
    "\n",
    "y_pred = model.predict(X_test)\n",
    "print(accuracy_score(y_test, y_pred))\n",
    "print(classification_report(y_test, y_pred))"
   ],
   "id": "79a76a3badf514d8",
   "outputs": [
    {
     "name": "stdout",
     "output_type": "stream",
     "text": [
      "0.6379310344827587\n",
      "                      precision    recall  f1-score   support\n",
      "\n",
      "no-recurrence-events       0.79      0.66      0.72        41\n",
      "   recurrence-events       0.42      0.59      0.49        17\n",
      "\n",
      "            accuracy                           0.64        58\n",
      "           macro avg       0.61      0.62      0.60        58\n",
      "        weighted avg       0.68      0.64      0.65        58\n",
      "\n"
     ]
    }
   ],
   "execution_count": 52
  },
  {
   "metadata": {
    "ExecuteTime": {
     "end_time": "2025-01-08T07:07:00.991656Z",
     "start_time": "2025-01-08T07:07:00.972132Z"
    }
   },
   "cell_type": "code",
   "source": [
    "smote_enn = SMOTETomek(random_state=42)\n",
    "X_train_smoteenn, y_train_smoteenn = smote_enn.fit_resample(X_train, y_train)\n",
    "\n",
    "model = LogisticRegression()\n",
    "model.fit(X_train_smoteenn, y_train_smoteenn)\n",
    "\n",
    "y_pred = model.predict(X_test)\n",
    "print(accuracy_score(y_test, y_pred))\n",
    "print(classification_report(y_test, y_pred))"
   ],
   "id": "af8886aabe91e40a",
   "outputs": [
    {
     "name": "stdout",
     "output_type": "stream",
     "text": [
      "0.6379310344827587\n",
      "                      precision    recall  f1-score   support\n",
      "\n",
      "no-recurrence-events       0.79      0.66      0.72        41\n",
      "   recurrence-events       0.42      0.59      0.49        17\n",
      "\n",
      "            accuracy                           0.64        58\n",
      "           macro avg       0.61      0.62      0.60        58\n",
      "        weighted avg       0.68      0.64      0.65        58\n",
      "\n"
     ]
    }
   ],
   "execution_count": 53
  },
  {
   "metadata": {
    "ExecuteTime": {
     "end_time": "2025-01-06T03:52:15.879631Z",
     "start_time": "2025-01-06T03:52:15.878460Z"
    }
   },
   "cell_type": "code",
   "source": "",
   "id": "2fc58a410ab55a84",
   "outputs": [],
   "execution_count": null
  },
  {
   "metadata": {
    "ExecuteTime": {
     "end_time": "2025-01-06T03:52:15.900966Z",
     "start_time": "2025-01-06T03:52:15.895457Z"
    }
   },
   "cell_type": "code",
   "source": [
    "df = pd.read_csv('churn.csv')\n",
    "\n",
    "df.head()"
   ],
   "id": "66ee92c811736a89",
   "outputs": [
    {
     "data": {
      "text/plain": [
       "   Call  Failure  Complains  Subscription  Length  Charge  Amount  \\\n",
       "0              8          0                    38               0   \n",
       "1              0          0                    39               0   \n",
       "2             10          0                    37               0   \n",
       "3             10          0                    38               0   \n",
       "4              3          0                    38               0   \n",
       "\n",
       "   Seconds of Use  Frequency of use  Frequency of SMS  \\\n",
       "0            4370                71                 5   \n",
       "1             318                 5                 7   \n",
       "2            2453                60               359   \n",
       "3            4198                66                 1   \n",
       "4            2393                58                 2   \n",
       "\n",
       "   Distinct Called Numbers  Age Group  Tariff Plan  Status  Age  \\\n",
       "0                       17          3            1       1   30   \n",
       "1                        4          2            1       2   25   \n",
       "2                       24          3            1       1   30   \n",
       "3                       35          1            1       1   15   \n",
       "4                       33          1            1       1   15   \n",
       "\n",
       "   Customer Value  Churn  \n",
       "0         197.640      0  \n",
       "1          46.035      0  \n",
       "2        1536.520      0  \n",
       "3         240.020      0  \n",
       "4         145.805      0  "
      ],
      "text/html": [
       "<div>\n",
       "<style scoped>\n",
       "    .dataframe tbody tr th:only-of-type {\n",
       "        vertical-align: middle;\n",
       "    }\n",
       "\n",
       "    .dataframe tbody tr th {\n",
       "        vertical-align: top;\n",
       "    }\n",
       "\n",
       "    .dataframe thead th {\n",
       "        text-align: right;\n",
       "    }\n",
       "</style>\n",
       "<table border=\"1\" class=\"dataframe\">\n",
       "  <thead>\n",
       "    <tr style=\"text-align: right;\">\n",
       "      <th></th>\n",
       "      <th>Call  Failure</th>\n",
       "      <th>Complains</th>\n",
       "      <th>Subscription  Length</th>\n",
       "      <th>Charge  Amount</th>\n",
       "      <th>Seconds of Use</th>\n",
       "      <th>Frequency of use</th>\n",
       "      <th>Frequency of SMS</th>\n",
       "      <th>Distinct Called Numbers</th>\n",
       "      <th>Age Group</th>\n",
       "      <th>Tariff Plan</th>\n",
       "      <th>Status</th>\n",
       "      <th>Age</th>\n",
       "      <th>Customer Value</th>\n",
       "      <th>Churn</th>\n",
       "    </tr>\n",
       "  </thead>\n",
       "  <tbody>\n",
       "    <tr>\n",
       "      <th>0</th>\n",
       "      <td>8</td>\n",
       "      <td>0</td>\n",
       "      <td>38</td>\n",
       "      <td>0</td>\n",
       "      <td>4370</td>\n",
       "      <td>71</td>\n",
       "      <td>5</td>\n",
       "      <td>17</td>\n",
       "      <td>3</td>\n",
       "      <td>1</td>\n",
       "      <td>1</td>\n",
       "      <td>30</td>\n",
       "      <td>197.640</td>\n",
       "      <td>0</td>\n",
       "    </tr>\n",
       "    <tr>\n",
       "      <th>1</th>\n",
       "      <td>0</td>\n",
       "      <td>0</td>\n",
       "      <td>39</td>\n",
       "      <td>0</td>\n",
       "      <td>318</td>\n",
       "      <td>5</td>\n",
       "      <td>7</td>\n",
       "      <td>4</td>\n",
       "      <td>2</td>\n",
       "      <td>1</td>\n",
       "      <td>2</td>\n",
       "      <td>25</td>\n",
       "      <td>46.035</td>\n",
       "      <td>0</td>\n",
       "    </tr>\n",
       "    <tr>\n",
       "      <th>2</th>\n",
       "      <td>10</td>\n",
       "      <td>0</td>\n",
       "      <td>37</td>\n",
       "      <td>0</td>\n",
       "      <td>2453</td>\n",
       "      <td>60</td>\n",
       "      <td>359</td>\n",
       "      <td>24</td>\n",
       "      <td>3</td>\n",
       "      <td>1</td>\n",
       "      <td>1</td>\n",
       "      <td>30</td>\n",
       "      <td>1536.520</td>\n",
       "      <td>0</td>\n",
       "    </tr>\n",
       "    <tr>\n",
       "      <th>3</th>\n",
       "      <td>10</td>\n",
       "      <td>0</td>\n",
       "      <td>38</td>\n",
       "      <td>0</td>\n",
       "      <td>4198</td>\n",
       "      <td>66</td>\n",
       "      <td>1</td>\n",
       "      <td>35</td>\n",
       "      <td>1</td>\n",
       "      <td>1</td>\n",
       "      <td>1</td>\n",
       "      <td>15</td>\n",
       "      <td>240.020</td>\n",
       "      <td>0</td>\n",
       "    </tr>\n",
       "    <tr>\n",
       "      <th>4</th>\n",
       "      <td>3</td>\n",
       "      <td>0</td>\n",
       "      <td>38</td>\n",
       "      <td>0</td>\n",
       "      <td>2393</td>\n",
       "      <td>58</td>\n",
       "      <td>2</td>\n",
       "      <td>33</td>\n",
       "      <td>1</td>\n",
       "      <td>1</td>\n",
       "      <td>1</td>\n",
       "      <td>15</td>\n",
       "      <td>145.805</td>\n",
       "      <td>0</td>\n",
       "    </tr>\n",
       "  </tbody>\n",
       "</table>\n",
       "</div>"
      ]
     },
     "execution_count": 96,
     "metadata": {},
     "output_type": "execute_result"
    }
   ],
   "execution_count": 96
  },
  {
   "metadata": {
    "ExecuteTime": {
     "end_time": "2025-01-06T03:52:15.933150Z",
     "start_time": "2025-01-06T03:52:15.931272Z"
    }
   },
   "cell_type": "code",
   "source": [
    "X = df.drop(\"Churn\", axis=1)\n",
    "y = df['Churn']"
   ],
   "id": "1b6fc89af2014a20",
   "outputs": [],
   "execution_count": 97
  },
  {
   "metadata": {
    "ExecuteTime": {
     "end_time": "2025-01-06T03:52:15.957359Z",
     "start_time": "2025-01-06T03:52:15.953936Z"
    }
   },
   "cell_type": "code",
   "source": [
    "from sklearn.model_selection import train_test_split\n",
    "\n",
    "X_train, X_test, y_train, y_test = train_test_split(X, y, test_size=0.2, random_state=42, stratify=y)"
   ],
   "id": "11418ee3d511c12e",
   "outputs": [],
   "execution_count": 98
  },
  {
   "metadata": {
    "ExecuteTime": {
     "end_time": "2025-01-06T03:52:38.944956Z",
     "start_time": "2025-01-06T03:52:34.779467Z"
    }
   },
   "cell_type": "code",
   "source": [
    "from sklearn.linear_model import LogisticRegression\n",
    "from sklearn.metrics import classification_report, accuracy_score\n",
    "from imblearn.over_sampling import SMOTE, ADASYN, RandomOverSampler\n",
    "from imblearn.under_sampling import TomekLinks, NearMiss, EditedNearestNeighbours\n",
    "from imblearn.combine import SMOTETomek, SMOTEENN\n",
    "\n",
    "# Define resampling methods\n",
    "resampling_methods = {\n",
    "    \"SMOTE\": SMOTE(random_state=42),\n",
    "    \"ADASYN\": ADASYN(random_state=42),\n",
    "    \"RandomOverSampler\": RandomOverSampler(random_state=42),\n",
    "    \"TomekLinks\": TomekLinks(),\n",
    "    \"NearMiss\": NearMiss(version=1),\n",
    "    \"EditedNearestNeighbours\": EditedNearestNeighbours(),\n",
    "    \"SMOTETomek\": SMOTETomek(random_state=42),\n",
    "    \"SMOTEENN\": SMOTEENN(random_state=42),\n",
    "}\n",
    "\n",
    "# Store results\n",
    "results = {}\n",
    "accuracy_scores = {}\n",
    "\n",
    "for name, sampler in resampling_methods.items():\n",
    "    print(f\"Processing with {name}...\")\n",
    "\n",
    "    # Step 1: Resample the training data\n",
    "    if \"Under\" in name or isinstance(sampler, (TomekLinks, NearMiss, EditedNearestNeighbours)):\n",
    "        X_resampled, y_resampled = sampler.fit_resample(X_train, y_train)\n",
    "    else:\n",
    "        X_resampled, y_resampled = sampler.fit_resample(X_train, y_train)\n",
    "\n",
    "    # Step 2: Train a Logistic Regression model\n",
    "    model = LogisticRegression(max_iter=10000, random_state=42)\n",
    "    model.fit(X_resampled, y_resampled)\n",
    "\n",
    "    # Step 3: Evaluate the model\n",
    "    y_pred = model.predict(X_test)\n",
    "    report = classification_report(y_test, y_pred, output_dict=True)\n",
    "    accuracy = accuracy_score(y_test, y_pred)\n",
    "    results[name] = report\n",
    "    accuracy_scores[name] = accuracy\n",
    "\n",
    "# Print and compare results\n",
    "# for method, report in results.items():\n",
    "#     print(f\"\\nClassification Report for {method}:\")\n",
    "#     print(classification_report(y_test, model.predict(X_test)))\n",
    "\n",
    "# Print and compare accuracy scores\n",
    "for method, accuracy in accuracy_scores.items():\n",
    "    print(f\"\\nAccuracy Score for {method}: {accuracy}\")\n",
    "\n",
    "# print highest accuracy model\n",
    "max_accuracy_model = max(accuracy_scores, key=accuracy_scores.get)\n",
    "print(f\"\\nModel with highest accuracy: {max_accuracy_model} with accuracy of {accuracy_scores[max_accuracy_model]}\")"
   ],
   "id": "eab228d60a14f3d9",
   "outputs": [
    {
     "name": "stdout",
     "output_type": "stream",
     "text": [
      "Processing with SMOTE...\n",
      "Processing with ADASYN...\n",
      "Processing with RandomOverSampler...\n",
      "Processing with TomekLinks...\n",
      "Processing with NearMiss...\n",
      "Processing with EditedNearestNeighbours...\n",
      "Processing with SMOTETomek...\n",
      "Processing with SMOTEENN...\n",
      "\n",
      "Accuracy Score for SMOTE: 0.8095238095238095\n",
      "\n",
      "Accuracy Score for ADASYN: 0.8047619047619048\n",
      "\n",
      "Accuracy Score for RandomOverSampler: 0.8396825396825397\n",
      "\n",
      "Accuracy Score for TomekLinks: 0.8857142857142857\n",
      "\n",
      "Accuracy Score for NearMiss: 0.5031746031746032\n",
      "\n",
      "Accuracy Score for EditedNearestNeighbours: 0.8857142857142857\n",
      "\n",
      "Accuracy Score for SMOTETomek: 0.8111111111111111\n",
      "\n",
      "Accuracy Score for SMOTEENN: 0.7746031746031746\n",
      "\n",
      "Model with highest accuracy: TomekLinks with accuracy of 0.8857142857142857\n"
     ]
    }
   ],
   "execution_count": 100
  },
  {
   "metadata": {
    "ExecuteTime": {
     "end_time": "2025-01-06T03:52:20.194924Z",
     "start_time": "2025-01-06T03:52:20.193631Z"
    }
   },
   "cell_type": "code",
   "source": "",
   "id": "45baa3dbacec13ef",
   "outputs": [],
   "execution_count": null
  }
 ],
 "metadata": {
  "kernelspec": {
   "name": "python3",
   "language": "python",
   "display_name": "Python 3 (ipykernel)"
  }
 },
 "nbformat": 5,
 "nbformat_minor": 9
}
